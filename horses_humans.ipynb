{
 "cells": [
  {
   "cell_type": "code",
   "execution_count": 1,
   "id": "1fb6da18",
   "metadata": {},
   "outputs": [
    {
     "name": "stdout",
     "output_type": "stream",
     "text": [
      "[PhysicalDevice(name='/physical_device:GPU:0', device_type='GPU')]\n"
     ]
    },
    {
     "name": "stderr",
     "output_type": "stream",
     "text": [
      "2022-07-05 12:52:57.200283: I tensorflow/stream_executor/cuda/cuda_gpu_executor.cc:936] successful NUMA node read from SysFS had negative value (-1), but there must be at least one NUMA node, so returning NUMA node zero\n",
      "2022-07-05 12:52:57.232283: I tensorflow/stream_executor/cuda/cuda_gpu_executor.cc:936] successful NUMA node read from SysFS had negative value (-1), but there must be at least one NUMA node, so returning NUMA node zero\n",
      "2022-07-05 12:52:57.232443: I tensorflow/stream_executor/cuda/cuda_gpu_executor.cc:936] successful NUMA node read from SysFS had negative value (-1), but there must be at least one NUMA node, so returning NUMA node zero\n"
     ]
    }
   ],
   "source": [
    "import tensorflow as tf\n",
    "physical_devices = tf.config.experimental.list_physical_devices('GPU')\n",
    "print(physical_devices)\n",
    "if physical_devices:\n",
    "  tf.config.experimental.set_memory_growth(physical_devices[0], True)"
   ]
  },
  {
   "cell_type": "code",
   "execution_count": 2,
   "id": "4499a920",
   "metadata": {},
   "outputs": [
    {
     "data": {
      "text/plain": [
       "'/home/piyush/.keras/datasets/horse-or-human.zip'"
      ]
     },
     "execution_count": 2,
     "metadata": {},
     "output_type": "execute_result"
    }
   ],
   "source": [
    "import tensorflow as tf\n",
    "tf.keras.utils.get_file('horse-or-human.zip',\"https://storage.googleapis.com/laurencemoroney-blog.appspot.com/horse-or-human.zip\")"
   ]
  },
  {
   "cell_type": "code",
   "execution_count": 3,
   "id": "b1f5a494",
   "metadata": {},
   "outputs": [],
   "source": [
    "import os\n",
    "import zipfile #to handle zip file\n",
    "\n",
    "local_zip = '/home/piyush/.keras/datasets/horse-or-human.zip'\n",
    "zip_ref = zipfile.ZipFile(local_zip, 'r')\n",
    "zip_ref.extractall('horse-or-human')\n",
    "zip_ref.close()"
   ]
  },
  {
   "cell_type": "code",
   "execution_count": 4,
   "id": "5f50785d",
   "metadata": {},
   "outputs": [
    {
     "data": {
      "text/plain": [
       "['humans', 'horses']"
      ]
     },
     "execution_count": 4,
     "metadata": {},
     "output_type": "execute_result"
    }
   ],
   "source": [
    "os.listdir('horse-or-human')"
   ]
  },
  {
   "cell_type": "code",
   "execution_count": 5,
   "id": "c18fcff3",
   "metadata": {},
   "outputs": [
    {
     "ename": "FileNotFoundError",
     "evalue": "[Errno 2] No such file or directory: 'horse-or-human/validation'",
     "output_type": "error",
     "traceback": [
      "\u001b[0;31m---------------------------------------------------------------------------\u001b[0m",
      "\u001b[0;31mFileNotFoundError\u001b[0m                         Traceback (most recent call last)",
      "Input \u001b[0;32mIn [5]\u001b[0m, in \u001b[0;36m<cell line: 1>\u001b[0;34m()\u001b[0m\n\u001b[0;32m----> 1\u001b[0m \u001b[43mos\u001b[49m\u001b[38;5;241;43m.\u001b[39;49m\u001b[43mlistdir\u001b[49m\u001b[43m(\u001b[49m\u001b[38;5;124;43m'\u001b[39;49m\u001b[38;5;124;43mhorse-or-human/validation\u001b[39;49m\u001b[38;5;124;43m'\u001b[39;49m\u001b[43m)\u001b[49m\n",
      "\u001b[0;31mFileNotFoundError\u001b[0m: [Errno 2] No such file or directory: 'horse-or-human/validation'"
     ]
    }
   ],
   "source": [
    "os.listdir('horse-or-human/validation')"
   ]
  },
  {
   "cell_type": "code",
   "execution_count": null,
   "id": "2cf6cbf0",
   "metadata": {},
   "outputs": [],
   "source": [
    "os.listdir('horse-or-human/validation/horses')"
   ]
  },
  {
   "cell_type": "code",
   "execution_count": null,
   "id": "ac4bc089",
   "metadata": {},
   "outputs": [],
   "source": [
    "len(os.listdir('horse-or-human/validation/horses'))"
   ]
  },
  {
   "cell_type": "code",
   "execution_count": null,
   "id": "93f6c8fd",
   "metadata": {},
   "outputs": [],
   "source": [
    "len(os.listdir('horse-or-human/validation/humans'))"
   ]
  },
  {
   "cell_type": "code",
   "execution_count": null,
   "id": "fa118fcc",
   "metadata": {},
   "outputs": [],
   "source": [
    "len(os.listdir('horse-or-human/train/horses'))"
   ]
  },
  {
   "cell_type": "code",
   "execution_count": null,
   "id": "5b110080",
   "metadata": {},
   "outputs": [],
   "source": [
    "len(os.listdir('horse-or-human/train/humans'))"
   ]
  },
  {
   "cell_type": "code",
   "execution_count": null,
   "id": "888b7bc9",
   "metadata": {},
   "outputs": [],
   "source": [
    "for fname in os.listdir('horse-or-human/train/humans'):\n",
    "  print(fname)"
   ]
  },
  {
   "cell_type": "code",
   "execution_count": null,
   "id": "02d85817",
   "metadata": {},
   "outputs": [],
   "source": [
    "from tensorflow.keras.preprocessing.image import array_to_img, img_to_array, load_img"
   ]
  },
  {
   "cell_type": "code",
   "execution_count": null,
   "id": "8af35821",
   "metadata": {},
   "outputs": [],
   "source": [
    "image_1 = load_img('horse-or-human/train/humans/human09-10.png')"
   ]
  },
  {
   "cell_type": "code",
   "execution_count": null,
   "id": "ebcdf2a8",
   "metadata": {},
   "outputs": [],
   "source": [
    "image_1"
   ]
  },
  {
   "cell_type": "code",
   "execution_count": null,
   "id": "56f77895",
   "metadata": {},
   "outputs": [],
   "source": [
    "image_2 = load_img('horse-or-human/validation/horses/horse39-3.png')"
   ]
  },
  {
   "cell_type": "code",
   "execution_count": null,
   "id": "370d4ede",
   "metadata": {},
   "outputs": [],
   "source": [
    "image_2"
   ]
  },
  {
   "cell_type": "code",
   "execution_count": null,
   "id": "a79fd24a",
   "metadata": {},
   "outputs": [],
   "source": [
    "from tensorflow.keras.models import Sequential\n",
    "from tensorflow.keras.layers import Dense,Conv2D,Flatten,Dropout,MaxPooling2D\n",
    "from tensorflow.keras.preprocessing.image import ImageDataGenerator\n",
    "import numpy as np\n",
    "import matplotlib.pyplot as plt"
   ]
  },
  {
   "cell_type": "code",
   "execution_count": null,
   "id": "cc0746d0",
   "metadata": {},
   "outputs": [],
   "source": [
    "path = os.path.join('horse-or-human')"
   ]
  },
  {
   "cell_type": "code",
   "execution_count": null,
   "id": "70d95746",
   "metadata": {},
   "outputs": [],
   "source": [
    "path"
   ]
  },
  {
   "cell_type": "code",
   "execution_count": null,
   "id": "eb021412",
   "metadata": {},
   "outputs": [],
   "source": [
    "train_dir = os.path.join(path,'train')"
   ]
  },
  {
   "cell_type": "code",
   "execution_count": null,
   "id": "a70ac840",
   "metadata": {},
   "outputs": [],
   "source": [
    "train_dir"
   ]
  },
  {
   "cell_type": "code",
   "execution_count": null,
   "id": "955c809e",
   "metadata": {},
   "outputs": [],
   "source": [
    "validation_dir = os.path.join(path,'validation')"
   ]
  },
  {
   "cell_type": "code",
   "execution_count": null,
   "id": "90ca6613",
   "metadata": {},
   "outputs": [],
   "source": [
    "validation_dir"
   ]
  },
  {
   "cell_type": "code",
   "execution_count": null,
   "id": "0b7f4196",
   "metadata": {},
   "outputs": [],
   "source": [
    "train_horses_dir = os.path.join(train_dir,'horses')\n",
    "train_humans_dir = os.path.join(train_dir,'humans')"
   ]
  },
  {
   "cell_type": "code",
   "execution_count": null,
   "id": "412ca9f7",
   "metadata": {},
   "outputs": [],
   "source": [
    "train_horses_dir"
   ]
  },
  {
   "cell_type": "code",
   "execution_count": null,
   "id": "cf8c864c",
   "metadata": {},
   "outputs": [],
   "source": [
    "train_humans_dir"
   ]
  },
  {
   "cell_type": "code",
   "execution_count": null,
   "id": "134a74bc",
   "metadata": {},
   "outputs": [],
   "source": [
    "validation_horses_dir = os.path.join(validation_dir,'horses')\n",
    "validation_humans_dir = os.path.join(validation_dir,'humans')"
   ]
  },
  {
   "cell_type": "code",
   "execution_count": null,
   "id": "6fac88a6",
   "metadata": {},
   "outputs": [],
   "source": [
    "validation_horses_dir"
   ]
  },
  {
   "cell_type": "code",
   "execution_count": null,
   "id": "1dc05e61",
   "metadata": {},
   "outputs": [],
   "source": [
    "validation_humans_dir"
   ]
  },
  {
   "cell_type": "code",
   "execution_count": null,
   "id": "c092b720",
   "metadata": {},
   "outputs": [],
   "source": [
    "os.listdir(validation_humans_dir)"
   ]
  },
  {
   "cell_type": "code",
   "execution_count": null,
   "id": "d66c1907",
   "metadata": {},
   "outputs": [],
   "source": [
    "type(os.listdir(validation_humans_dir))"
   ]
  },
  {
   "cell_type": "code",
   "execution_count": null,
   "id": "e454b54d",
   "metadata": {},
   "outputs": [],
   "source": [
    "num_horses_tr = len(os.listdir(train_horses_dir))\n",
    "num_humans_tr = len(os.listdir(train_humans_dir))\n",
    "num_horses_val = len(os.listdir(validation_horses_dir))\n",
    "num_humans_val = len(os.listdir(validation_humans_dir))\n",
    "print('Horses training data ',num_horses_tr)\n",
    "print('Humans training Data ',num_humans_tr)\n",
    "print('Horses Valid data ',num_horses_val)\n",
    "print('Humans valid data ',num_humans_val)"
   ]
  },
  {
   "cell_type": "code",
   "execution_count": null,
   "id": "fe2857b2",
   "metadata": {},
   "outputs": [],
   "source": [
    "total_train=num_horses_tr+num_humans_tr\n",
    "total_val=num_horses_val+num_humans_val\n",
    "print('Total Training images',total_train)\n",
    "print('Total validation images',total_val)"
   ]
  },
  {
   "cell_type": "code",
   "execution_count": null,
   "id": "bd1273b4",
   "metadata": {},
   "outputs": [],
   "source": [
    "batch_size = 100\n",
    "epochs = 20\n",
    "IMG_HIEGHT = 300\n",
    "IMG_WIDHT = 300"
   ]
  },
  {
   "cell_type": "code",
   "execution_count": null,
   "id": "c3f17781",
   "metadata": {},
   "outputs": [],
   "source": [
    "train_image_generator = ImageDataGenerator(rescale=1./255)\n",
    "validation_image_generator = ImageDataGenerator(rescale=1./255)"
   ]
  },
  {
   "cell_type": "code",
   "execution_count": null,
   "id": "50300999",
   "metadata": {},
   "outputs": [],
   "source": [
    "train_data_gen = train_image_generator.flow_from_directory(batch_size=batch_size,\n",
    "                                                           directory=train_dir,\n",
    "                                                           shuffle=True,\n",
    "                                                           target_size=(IMG_HIEGHT,IMG_WIDHT),\n",
    "                                                           class_mode='binary')"
   ]
  },
  {
   "cell_type": "code",
   "execution_count": null,
   "id": "94776d22",
   "metadata": {},
   "outputs": [],
   "source": [
    "train_data_gen.class_indices"
   ]
  },
  {
   "cell_type": "code",
   "execution_count": null,
   "id": "265a7b82",
   "metadata": {},
   "outputs": [],
   "source": [
    "val_data_gen = validation_image_generator.flow_from_directory(batch_size=batch_size,\n",
    "                                                              directory=validation_dir,\n",
    "                                                              target_size=(IMG_HIEGHT,IMG_WIDHT),\n",
    "                                                              class_mode='binary')"
   ]
  },
  {
   "cell_type": "code",
   "execution_count": null,
   "id": "d6a5c13c",
   "metadata": {},
   "outputs": [],
   "source": [
    "sample_train_images, label = next(train_data_gen)"
   ]
  },
  {
   "cell_type": "code",
   "execution_count": null,
   "id": "fc22d5b7",
   "metadata": {},
   "outputs": [],
   "source": [
    "label"
   ]
  },
  {
   "cell_type": "code",
   "execution_count": null,
   "id": "e4a213b0",
   "metadata": {},
   "outputs": [],
   "source": [
    "sample_train_images.shape"
   ]
  },
  {
   "cell_type": "code",
   "execution_count": null,
   "id": "b0749ab0",
   "metadata": {},
   "outputs": [],
   "source": [
    "sample_train_images[10]"
   ]
  },
  {
   "cell_type": "code",
   "execution_count": null,
   "id": "7cb4e566",
   "metadata": {},
   "outputs": [],
   "source": [
    "plt.imshow(sample_train_images[10])"
   ]
  },
  {
   "cell_type": "code",
   "execution_count": null,
   "id": "c2154330",
   "metadata": {},
   "outputs": [],
   "source": [
    "sample_train_images[10].shape"
   ]
  },
  {
   "cell_type": "code",
   "execution_count": null,
   "id": "a95fe37a",
   "metadata": {},
   "outputs": [],
   "source": [
    "def plotImages(images_arr):\n",
    "    fig, axes = plt.subplots(1,5,figsize=(20,20))\n",
    "    axes = axes.flatten()\n",
    "    for img,ax in zip(images_arr,axes):\n",
    "        ax.imshow(img)\n",
    "        ax.axis('off')\n",
    "    plt.tight_layout()\n",
    "    plt.show()"
   ]
  },
  {
   "cell_type": "code",
   "execution_count": null,
   "id": "2d698f3c",
   "metadata": {},
   "outputs": [],
   "source": [
    "plotImages(sample_train_images[0:5])"
   ]
  },
  {
   "cell_type": "code",
   "execution_count": null,
   "id": "f110aba3",
   "metadata": {},
   "outputs": [],
   "source": [
    "model = Sequential([\n",
    "    Conv2D(16,3,padding='same',activation='relu',input_shape=(IMG_HIEGHT,IMG_WIDHT,3)),\n",
    "    MaxPooling2D(),\n",
    "    Conv2D(32,3,padding='same',activation='relu'),\n",
    "    MaxPooling2D(),\n",
    "    Conv2D(64,3,padding='same',activation='relu'),\n",
    "    MaxPooling2D(),\n",
    "    Flatten(),\n",
    "    Dense(512,activation='relu'),\n",
    "    Dense(1,activation='sigmoid')\n",
    "])"
   ]
  },
  {
   "cell_type": "code",
   "execution_count": null,
   "id": "cb9559d8",
   "metadata": {},
   "outputs": [],
   "source": [
    "model.summary()"
   ]
  },
  {
   "cell_type": "code",
   "execution_count": null,
   "id": "6e74d6e1",
   "metadata": {},
   "outputs": [],
   "source": [
    "model.compile(optimizer='adam',loss=tf.keras.losses.BinaryCrossentropy(from_logits=True),metrics=['accuracy'])"
   ]
  },
  {
   "cell_type": "code",
   "execution_count": null,
   "id": "9ab3b46c",
   "metadata": {},
   "outputs": [],
   "source": [
    "history = model.fit(train_data_gen,steps_per_epoch=total_train//batch_size,epochs=epochs,\n",
    "                             validation_data=val_data_gen,validation_steps=total_val//batch_size)"
   ]
  },
  {
   "cell_type": "code",
   "execution_count": null,
   "id": "8e6a82b3",
   "metadata": {},
   "outputs": [],
   "source": [
    "history.history"
   ]
  },
  {
   "cell_type": "code",
   "execution_count": null,
   "id": "7a5a0e73",
   "metadata": {},
   "outputs": [],
   "source": [
    "acc = history.history['accuracy']\n",
    "val_acc = history.history['val_accuracy']\n",
    "loss = history.history['loss']\n",
    "val_loss = history.history['val_loss']\n",
    "epochs_range = range(epochs)\n",
    "plt.figure(figsize=(8,4))\n",
    "plt.subplot(1,2,1)\n",
    "plt.plot(epochs_range,acc,label='Training Accuracy')\n",
    "plt.plot(epochs_range,val_acc,label='Val Accuracy')\n",
    "plt.legend(loc='lower right')\n",
    "plt.title('Accuracy')\n",
    "plt.subplot(1,2,2)\n",
    "plt.plot(epochs_range,loss,label='Training Loss')\n",
    "plt.plot(epochs_range,val_loss,label='Val LOss')\n",
    "plt.legend(loc=0)\n",
    "plt.title('Loss')\n",
    "plt.show()"
   ]
  },
  {
   "cell_type": "code",
   "execution_count": null,
   "id": "829679ec",
   "metadata": {},
   "outputs": [],
   "source": [
    "image_gen_train = ImageDataGenerator(rescale=1./255,\n",
    "                                    rotation_range=45,\n",
    "                                    width_shift_range=.15,\n",
    "                                    height_shift_range=.15,\n",
    "                                    horizontal_flip=True,\n",
    "                                    zoom_range=0.5)"
   ]
  },
  {
   "cell_type": "code",
   "execution_count": null,
   "id": "e0ed2b7a",
   "metadata": {},
   "outputs": [],
   "source": [
    "train_data_gen = image_gen_train.flow_from_directory(batch_size=batch_size,\n",
    "                                                    directory=train_dir,\n",
    "                                                    shuffle=True,\n",
    "                                                    target_size=(IMG_HIEGHT,IMG_HIEGHT),\n",
    "                                                    class_mode='binary')"
   ]
  },
  {
   "cell_type": "code",
   "execution_count": null,
   "id": "a48fd968",
   "metadata": {},
   "outputs": [],
   "source": [
    "augmented_images = [train_data_gen[0][0][0] for i in range(5)]\n",
    "plotImages(augmented_images)"
   ]
  },
  {
   "cell_type": "code",
   "execution_count": null,
   "id": "de4114ba",
   "metadata": {},
   "outputs": [],
   "source": [
    "image_gen_val = ImageDataGenerator(rescale=1./255)\n",
    "val_data_gen = image_gen_val.flow_from_directory(batch_size=batch_size,\n",
    "                                                directory=validation_dir,\n",
    "                                                target_size=(IMG_HIEGHT,IMG_WIDHT),\n",
    "                                                class_mode='binary')"
   ]
  },
  {
   "cell_type": "code",
   "execution_count": null,
   "id": "06cce2d8",
   "metadata": {},
   "outputs": [],
   "source": [
    "model_new = Sequential([\n",
    "    Conv2D(16,3,padding='same',activation='relu',input_shape=(IMG_HIEGHT,IMG_WIDHT,3)),\n",
    "    MaxPooling2D(),\n",
    "    Dropout(0.2),\n",
    "    Conv2D(32,3,padding='same',activation='relu'),\n",
    "    MaxPooling2D(),\n",
    "    Dropout(0.2),\n",
    "    Conv2D(64,3,padding='same',activation='relu'),\n",
    "    MaxPooling2D(),\n",
    "    Dropout(0.2),\n",
    "    Flatten(),\n",
    "    Dense(512,activation='relu'),\n",
    "    Dropout(0.2),\n",
    "    Dense(1,activation='sigmoid')\n",
    "])"
   ]
  },
  {
   "cell_type": "code",
   "execution_count": null,
   "id": "8471738b",
   "metadata": {},
   "outputs": [],
   "source": [
    "model_new.summary()"
   ]
  },
  {
   "cell_type": "code",
   "execution_count": null,
   "id": "4e1b1c4b",
   "metadata": {},
   "outputs": [],
   "source": [
    "epochs = 100"
   ]
  },
  {
   "cell_type": "code",
   "execution_count": null,
   "id": "a992b81d",
   "metadata": {},
   "outputs": [],
   "source": [
    "model_new.compile(optimizer='adam',loss='binary_crossentropy',metrics=['accuracy'])"
   ]
  },
  {
   "cell_type": "code",
   "execution_count": null,
   "id": "c8a61413",
   "metadata": {},
   "outputs": [],
   "source": [
    "history = model_new.fit(train_data_gen,steps_per_epoch=total_train//batch_size,\n",
    "                                 epochs=epochs,\n",
    "                                 validation_data=val_data_gen,\n",
    "                                 validation_steps=total_val//batch_size)"
   ]
  },
  {
   "cell_type": "code",
   "execution_count": null,
   "id": "e81536de",
   "metadata": {},
   "outputs": [],
   "source": [
    "acc = history.history['accuracy']\n",
    "val_acc = history.history['val_accuracy']\n",
    "loss = history.history['loss']\n",
    "val_loss = history.history['val_loss']\n",
    "epochs_range = range(epochs)\n",
    "plt.figure(figsize=(8,4))\n",
    "plt.subplot(1,2,1)\n",
    "plt.plot(epochs_range,acc,label='Training Accuracy')\n",
    "plt.plot(epochs_range,val_acc,label='Val Accuracy')\n",
    "plt.legend(loc='lower right')\n",
    "plt.title('Accuracy')\n",
    "plt.subplot(1,2,2)\n",
    "plt.plot(epochs_range,loss,label='Training Loss')\n",
    "plt.plot(epochs_range,val_loss,label='Val LOss')\n",
    "plt.legend(loc='upper right')\n",
    "plt.title('Loss')\n",
    "plt.show()"
   ]
  },
  {
   "cell_type": "code",
   "execution_count": null,
   "id": "8b658219",
   "metadata": {},
   "outputs": [],
   "source": [
    "import tensorflow as tf"
   ]
  },
  {
   "cell_type": "code",
   "execution_count": null,
   "id": "1bf548df",
   "metadata": {},
   "outputs": [],
   "source": [
    "tf.keras.models.save_model(model_new,'horses_humans.h5')"
   ]
  },
  {
   "cell_type": "code",
   "execution_count": null,
   "id": "43484d1d",
   "metadata": {},
   "outputs": [],
   "source": [
    "import tensorflow as tf\n",
    "physical_devices = tf.config.experimental.list_physical_devices('GPU')\n",
    "print(physical_devices)\n",
    "if physical_devices:\n",
    "  tf.config.experimental.set_memory_growth(physical_devices[0], True)"
   ]
  },
  {
   "cell_type": "code",
   "execution_count": null,
   "id": "5e799bd0",
   "metadata": {},
   "outputs": [],
   "source": [
    "from tensorflow.keras.preprocessing.image import array_to_img, img_to_array, load_img"
   ]
  },
  {
   "cell_type": "code",
   "execution_count": null,
   "id": "179e9035",
   "metadata": {},
   "outputs": [],
   "source": [
    "import tensorflow as tf"
   ]
  },
  {
   "cell_type": "code",
   "execution_count": null,
   "id": "4fc1a226",
   "metadata": {},
   "outputs": [],
   "source": [
    "model = tf.keras.models.load_model('horses_humans.h5')"
   ]
  },
  {
   "cell_type": "code",
   "execution_count": null,
   "id": "ebe4209b",
   "metadata": {},
   "outputs": [],
   "source": [
    "model.summary()"
   ]
  },
  {
   "cell_type": "code",
   "execution_count": null,
   "id": "57321c3c",
   "metadata": {},
   "outputs": [],
   "source": [
    "img = load_img('human01-23.png',target_size=(300,300))"
   ]
  },
  {
   "cell_type": "code",
   "execution_count": null,
   "id": "9e25a192",
   "metadata": {},
   "outputs": [],
   "source": [
    "img"
   ]
  },
  {
   "cell_type": "code",
   "execution_count": null,
   "id": "03fdbb25",
   "metadata": {},
   "outputs": [],
   "source": [
    "img = img_to_array(img)"
   ]
  },
  {
   "cell_type": "code",
   "execution_count": null,
   "id": "aa0ffc73",
   "metadata": {},
   "outputs": [],
   "source": [
    "img"
   ]
  },
  {
   "cell_type": "code",
   "execution_count": null,
   "id": "3e6c26c1",
   "metadata": {},
   "outputs": [],
   "source": [
    "img.shape"
   ]
  },
  {
   "cell_type": "code",
   "execution_count": null,
   "id": "a6459379",
   "metadata": {},
   "outputs": [],
   "source": [
    "img = img.reshape(1,300,300,3)"
   ]
  },
  {
   "cell_type": "code",
   "execution_count": null,
   "id": "b571a2cd",
   "metadata": {},
   "outputs": [],
   "source": [
    "img.shape"
   ]
  },
  {
   "cell_type": "code",
   "execution_count": null,
   "id": "33cb94a6",
   "metadata": {},
   "outputs": [],
   "source": [
    "model.predict(img)"
   ]
  },
  {
   "cell_type": "code",
   "execution_count": null,
   "id": "8d3985bc",
   "metadata": {},
   "outputs": [],
   "source": [
    "img2 = load_img('horse03-5.png',target_size=(300,300))"
   ]
  },
  {
   "cell_type": "code",
   "execution_count": null,
   "id": "d28936df",
   "metadata": {},
   "outputs": [],
   "source": [
    "img2"
   ]
  },
  {
   "cell_type": "code",
   "execution_count": null,
   "id": "f4949fe1",
   "metadata": {},
   "outputs": [],
   "source": [
    "img2.shape"
   ]
  },
  {
   "cell_type": "code",
   "execution_count": null,
   "id": "ec41b614",
   "metadata": {},
   "outputs": [],
   "source": [
    "img2 = img.reshape(1,300,300,3)"
   ]
  },
  {
   "cell_type": "code",
   "execution_count": null,
   "id": "a7c5f5b0",
   "metadata": {},
   "outputs": [],
   "source": [
    "img2.shape"
   ]
  },
  {
   "cell_type": "code",
   "execution_count": null,
   "id": "6099c195",
   "metadata": {},
   "outputs": [],
   "source": [
    "model.predict(img2)"
   ]
  },
  {
   "cell_type": "code",
   "execution_count": null,
   "id": "ce6faebc",
   "metadata": {},
   "outputs": [],
   "source": []
  }
 ],
 "metadata": {
  "kernelspec": {
   "display_name": "Python 3 (ipykernel)",
   "language": "python",
   "name": "python3"
  },
  "language_info": {
   "codemirror_mode": {
    "name": "ipython",
    "version": 3
   },
   "file_extension": ".py",
   "mimetype": "text/x-python",
   "name": "python",
   "nbconvert_exporter": "python",
   "pygments_lexer": "ipython3",
   "version": "3.9.13"
  }
 },
 "nbformat": 4,
 "nbformat_minor": 5
}
